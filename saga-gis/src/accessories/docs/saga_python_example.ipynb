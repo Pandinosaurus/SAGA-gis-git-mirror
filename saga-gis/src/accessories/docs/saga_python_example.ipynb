{
 "cells": [
  {
   "cell_type": "markdown",
   "metadata": {},
   "source": [
    "# A Short Introduction to PySAGA\n",
    "This is a short introduction to *PySAGA* and its usage including a few simple examples. The *PySAGA* package has been introduced with *SAGA 9.2.0*, which therefore is the minimum requirement for running this script.\n",
    "### Using PySAGA in *NIX-Like Environments\n",
    "*Linux*, *FreeBSD* and similar operating systems usually will have installed *SAGA* together with the *PySAGA* package after installation with your distribution's package manager. Alternatively you can build *SAGA* from the source code quite easily by yourself following the instructions from the [Wiki](https://sourceforge.net/p/saga-gis/wiki/Compiling%20SAGA%20on%20Linux/).\n",
    "### Using PySAGA in Windows Environments\n",
    "The Windows installation of *SAGA* is portable, i.e. you only need to unzip the binary files and can immediately run the programs, *saga_gui.exe* for starting the graphical user interface or *saga_cmd.exe* to run commands from a terminal or a batch script. To import *PySAGA* in your Python scripts you only need to add the path to your *SAGA* installation to the __PYTHONPATH__ environment variable. You can also do this programmatically within your Python script adding the following command line before trying to import anything from *PySAGA* (adjust the path accordingly):"
   ]
  },
  {
   "cell_type": "code",
   "execution_count": null,
   "metadata": {},
   "outputs": [],
   "source": [
    "import sys; sys.path.insert(1, 'C:/saga-9.8.0_x64')"
   ]
  },
  {
   "cell_type": "markdown",
   "metadata": {},
   "source": [
    "## Preparations\n",
    "### Import SAGA API from PySAGA\n",
    "The *saga_api* module is *PySAGA*'s core component connecting the Python world with *SAGA*. Through *saga_api* almost the complete *SAGA-API* functionality can be accessed, data structures, tools, and many, many helpful functions. So let's import it in the very first place. This might take a few seconds, because it loads not only the *SAGA API* itself but also the tool libraries (and some of these have several dependencies to be loaded too!)."
   ]
  },
  {
   "cell_type": "code",
   "execution_count": 1,
   "metadata": {},
   "outputs": [],
   "source": [
    "from PySAGA import saga_api"
   ]
  },
  {
   "cell_type": "markdown",
   "metadata": {},
   "source": [
    "To check that the import was successful we want to print the loaded tool libraries. Starting with version 9.6 *SAGA* loads its tool libraries only on demand, i.e. a tool of a library has been requested. But we can force *SAGA* to load all default libraries before listing their names. To do so we request *SAGA API*'s tool library manager, which provides loading and summary functions. The summary function will return a *saga_api.CSG_String* object, which is not directly compatible with Python strings, but has a suitable conversion function called *c_str()*. The flag *SG_SUMMARY_FMT_FLAT* tells the summary function not give a HTML formatted result string."
   ]
  },
  {
   "cell_type": "code",
   "execution_count": null,
   "metadata": {},
   "outputs": [],
   "source": [
    "saga_api.SG_Get_Tool_Library_Manager().Add_Default_Libraries()\n",
    "\n",
    "print(saga_api.SG_Get_Tool_Library_Manager().Get_Summary(saga_api.SG_SUMMARY_FMT_FLAT).c_str())"
   ]
  },
  {
   "cell_type": "markdown",
   "metadata": {},
   "source": [
    "### Get Some Test Data\n",
    "To show exemplary applications of SAGA functions and tools we need to have some test data. For convenience we want store input as well as resulting data in a separate working directory, so let's create it."
   ]
  },
  {
   "cell_type": "code",
   "execution_count": null,
   "metadata": {},
   "outputs": [],
   "source": [
    "import os\n",
    "WorkDir = os.getcwd() + '/test'\n",
    "if not os.path.exists(WorkDir):\n",
    "    os.makedirs(WorkDir)\n",
    "os.chdir(WorkDir)"
   ]
  },
  {
   "cell_type": "markdown",
   "metadata": {},
   "source": [
    "If not already done we want to download a demo data set from *SAGA*'s [files](https://sourceforge.net/projects/saga-gis/files/SAGA%20-%20Demo%20Data/Demo%20Data%20for%20SAGA/) section hosted at [SourceForge](https://sourceforge.net/projects/saga-gis/). This is a Digital Elevation Model (DEM) of the Mt.St.Helens volcano created from *Shuttle Radar Topograpy Mission* (SRTM) data as provided by the [CGIAR](https://srtm.csi.cgiar.org/)."
   ]
  },
  {
   "cell_type": "code",
   "execution_count": null,
   "metadata": {},
   "outputs": [],
   "source": [
    "File = 'DGM_30m_Mt.St.Helens_SRTM.sgrd'\n",
    "if not os.path.exists(File):\n",
    "    from PySAGA.data import helper\n",
    "    File = helper.Get_File(File='DGM_30m_Mt.St.Helens_SRTM.zip', Local_Dir=WorkDir, Remote_Dir='https://sourceforge.net/projects/saga-gis/files/SAGA%20-%20Demo%20Data/Demo%20Data%20for%20SAGA/')\n",
    "\n",
    "    import zipfile; zf = zipfile.ZipFile(File, 'r')\n",
    "    zf.extractall(WorkDir)\n",
    "    zf.close()"
   ]
  },
  {
   "cell_type": "markdown",
   "metadata": {},
   "source": [
    "Now we can load the raster DEM either directly using *SAGA API*'s *CSG_Grid()* constructor or through the *SAGA API*'s data manager with its *Add_Grid()* function. Both accept a file name of a raster to be loaded as argument. For the following examples we will use the data manager to create new data objects."
   ]
  },
  {
   "cell_type": "code",
   "execution_count": null,
   "metadata": {},
   "outputs": [],
   "source": [
    "dem = saga_api.SG_Get_Data_Manager().Add_Grid(File)\n",
    "if not dem:\n",
    "    print('failed to load ' + File)\n",
    "else:\n",
    "    print('succcessfully loaded ' + File)"
   ]
  },
  {
   "cell_type": "markdown",
   "metadata": {},
   "source": [
    "If the file has been loaded successfully, we can try to display it with a simple *Plot_Grid()* function provided by *PySAGA*. The plot function uses the [*matplotlib*](https://matplotlib.org/) package and will only work, if this is installed in your *Python* environment."
   ]
  },
  {
   "cell_type": "code",
   "execution_count": null,
   "metadata": {},
   "outputs": [],
   "source": [
    "from PySAGA import plot\n",
    "\n",
    "plot.Plot_Grid(dem)"
   ]
  },
  {
   "cell_type": "markdown",
   "metadata": {},
   "source": [
    "## Running Tools\n",
    "Assuming that the previous steps were executed successfully, we want to continue with some data analysis.\n",
    "### Geomorphometric Analysis\n",
    "We start with a classic in geomorphometric analysis, the derivation of slope angles! The *SAGA* tool doing this job is named *'Slope, Aspect, Curvatures'* and belongs to the tool library *'Morphometry'* of the *'Terrain Analysis'* category. The library's internal name is *ta_morphometry*. First we will import this library from the *PySAGA.tools*. Then we need to create a *SAGA* raster object that will receive the resulting slope values. We do this again with the data manager's *Add_Grid()* function. As the tool's name implies we can also derive aspect and different flavours of curvature, so let's also get the general curvature. Of course we need to specify an elevation data set, which will be our SRTM DEM for Mt.St.Helens. If the tool execution succeeds we will store the results in our working directory."
   ]
  },
  {
   "cell_type": "code",
   "execution_count": null,
   "metadata": {},
   "outputs": [],
   "source": [
    "from PySAGA.tools import ta_morphometry\n",
    "\n",
    "slope     = saga_api.SG_Get_Data_Manager().Add_Grid()\n",
    "curvature = saga_api.SG_Get_Data_Manager().Add_Grid()\n",
    "\n",
    "if ta_morphometry.Slope_Aspect_Curvature(ELEVATION=dem, SLOPE=slope, UNIT_SLOPE='degree', C_GENE=curvature):\n",
    "     # save results to file...\n",
    "    slope    .Save('slope.sg-grd-z')\n",
    "    curvature.Save('curvature.sg-grd-z')\n",
    "\n",
    "    # ...and plot the results!\n",
    "    plot.Plot_Grid(slope)\n",
    "    plot.Plot_Grid(curvature)"
   ]
  },
  {
   "cell_type": "markdown",
   "metadata": {},
   "source": [
    "Data objects can be used in subsequent calls of *SAGA* tools again to receive new values. We demonstrate this here with the curvature raster object. This time we want to get the tangential curvature."
   ]
  },
  {
   "cell_type": "code",
   "execution_count": null,
   "metadata": {},
   "outputs": [],
   "source": [
    "if ta_morphometry.Slope_Aspect_Curvature(ELEVATION=dem, C_TANG=curvature):\n",
    "    curvature.Save('curvature_tangential.sg-grd-z')\n",
    "    plot.Plot_Grid(curvature)"
   ]
  },
  {
   "cell_type": "markdown",
   "metadata": {},
   "source": [
    "The tool *'TPI Based Landform Classification'* is using the *'Topograpic Position Index'* to define a landform category for each raster cell. If your IDE supports Intellisense and *SAGA* has been known by the Python environment before loading it (=> PYTHONPATH) you might be able to see the tool's help which will give you more details about the tool. Otherwise you might explore *SAGA GUI* to find the full tool description."
   ]
  },
  {
   "cell_type": "code",
   "execution_count": null,
   "metadata": {},
   "outputs": [],
   "source": [
    "landforms = saga_api.SG_Get_Data_Manager().Add_Grid()\n",
    "if ta_morphometry.TPI_Based_Landform_Classification(DEM=dem, LANDFORMS=landforms, RADIUS_A='0; 100', RADIUS_B='100; 1000'):\n",
    "    landforms.Save('landforms.sg-grd-z')\n",
    "    plot.Plot_Grid(landforms)"
   ]
  },
  {
   "cell_type": "markdown",
   "metadata": {},
   "source": [
    "To obtain a smoother, more generalized landform classification we can apply a majority filter which you can find in the *grid_filter* tool box. Notice that this tool will modify the input raster in-place if you do not provide a target raster with the *RESULT* argument."
   ]
  },
  {
   "cell_type": "code",
   "execution_count": null,
   "metadata": {},
   "outputs": [],
   "source": [
    "\n",
    "from PySAGA.tools import grid_filter\n",
    "\n",
    "if grid_filter.MajorityMinority_Filter(INPUT=landforms, KERNEL_RADIUS=3):\n",
    "    landforms.Save('landforms_filtered.sg-grd-z')\n",
    "    plot.Plot_Grid(landforms)"
   ]
  },
  {
   "cell_type": "markdown",
   "metadata": {},
   "source": [
    "Landform classifications are typically distributed as vector data. We can derive polygons for each class with the *'Vectorizing Grid Classes'* tool."
   ]
  },
  {
   "cell_type": "code",
   "execution_count": null,
   "metadata": {},
   "outputs": [],
   "source": [
    "from PySAGA.tools import shapes_grid\n",
    "\n",
    "polygons = saga_api.SG_Get_Data_Manager().Add_Shapes()\n",
    "shapes_grid.Vectorizing_Grid_Classes(GRID=landforms, POLYGONS=polygons)\n",
    "\n",
    "plot.Plot_Shapes(polygons)"
   ]
  },
  {
   "cell_type": "markdown",
   "metadata": {},
   "source": [
    "In contrast to the previously used tools, the following tool named *'Hypsometry'* will create a result data set of type *saga_api.CSG_Table*. On successful execution we store the table data to file, plot its content using the *PySAGA.plot* function *Plot_Table* and print it using the *PySAGA.helper* function *Print_Table*."
   ]
  },
  {
   "cell_type": "code",
   "execution_count": null,
   "metadata": {},
   "outputs": [],
   "source": [
    "table = saga_api.SG_Get_Data_Manager().Add_Table()\n",
    "\n",
    "if ta_morphometry.Hypsometry(ELEVATION=dem, TABLE=table):\n",
    "    table.Save('hypsometry.txt')\n",
    "\n",
    "    from PySAGA import plot\n",
    "    plot.Plot_Table(table, yFields=[1], xField=0)\n",
    "\n",
    "    from PySAGA import helper\n",
    "    helper.Print_Table(table)"
   ]
  },
  {
   "cell_type": "markdown",
   "metadata": {},
   "source": [
    "### Hydrologic Analysis\n",
    "\n",
    "The relief of the Earth's surface has a strong control on where the water flows and this is what we want to assess now. Typically hydrology related terrain analysis needs spurious pits removed from the original DEM to create a hydrologically sound DEM. We will use the *ta_preprocessor* tool *'Sink Removal'* and compare the preprocessed DEM with the original by calculating their cellwise differences in elevation using the *grid_calculus* tool *'Grid Calculator'*. The grid calculator expects an input grid list, which is simply supplied to it as Python list. Before storing the result we set the no-data value to zero, so that only cells that differ will be shown e.g. visualizing it in *SAGA GUI*."
   ]
  },
  {
   "cell_type": "code",
   "execution_count": null,
   "metadata": {},
   "outputs": [],
   "source": [
    "from PySAGA.tools import ta_preprocessor\n",
    "\n",
    "dem_nosinks = saga_api.SG_Get_Data_Manager().Add_Grid()\n",
    "\n",
    "ta_preprocessor.Sink_Removal(DEM=dem, DEM_PREPROC=dem_nosinks)\n",
    "\n",
    "# detect the filled sinks\n",
    "from PySAGA.tools import grid_calculus\n",
    "\n",
    "sinks = saga_api.SG_Get_Data_Manager().Add_Grid()\n",
    "grid_calculus.Grid_Calculator(GRIDS=[dem, dem_nosinks], RESULT=sinks, FORMULA='g2 - g1')\n",
    "sinks.Set_NoData_Value(0.)\n",
    "sinks.Save('closed_depressions.sg-grd-z')"
   ]
  },
  {
   "cell_type": "markdown",
   "metadata": {},
   "source": [
    "Once preprocessing is done we can continue deriving the flow accumulation itself. It comes from the *ta_hydrology* library."
   ]
  },
  {
   "cell_type": "code",
   "execution_count": null,
   "metadata": {},
   "outputs": [],
   "source": [
    "# calculate the flow accumulation using the depressionless DEM\n",
    "from PySAGA.tools import ta_hydrology\n",
    "\n",
    "flow_acc = saga_api.SG_Get_Data_Manager().Add_Grid()\n",
    "ta_hydrology.Flow_Accumulation_TopDown(ELEVATION=dem_nosinks, FLOW=flow_acc, METHOD='Multiple Triangular Flow Directon')\n",
    "flow_acc.Save('flow_acc.sg-grd-z')\n",
    "plot.Plot_Grid(flow_acc)"
   ]
  },
  {
   "cell_type": "markdown",
   "metadata": {},
   "source": [
    "A very popular terrain parameter, the *Topographic Wetness Index* or *TWI*, is calculated from *specific catchment area* (*SCA*) and *slope gradient*. *SCA* is a normalized form of the flow accumulation (aka *total catchment area* or *TCA*). Slope gradient we calculated already but unluckily the *TWI* tool expects slope values in radians (not degree). So let's prepare both input data correctly before we run the *TWI* tool."
   ]
  },
  {
   "cell_type": "code",
   "execution_count": null,
   "metadata": {},
   "outputs": [],
   "source": [
    "sca = saga_api.SG_Get_Data_Manager().Add_Grid(); twi = saga_api.SG_Get_Data_Manager().Add_Grid()\n",
    "\n",
    "ta_morphometry.Slope_Aspect_Curvature(ELEVATION=dem, SLOPE=slope, UNIT_SLOPE='radians')\n",
    "ta_hydrology.Flow_Width_and_Specific_Catchment_Area(DEM=dem_nosinks, TCA=flow_acc, SCA=sca)\n",
    "ta_hydrology.Topographic_Wetness_Index(SLOPE=slope, AREA=sca, TWI=twi)\n",
    "\n",
    "twi.Save('twi.sg-grd-z')\n",
    "plot.Plot_Grid(twi)"
   ]
  },
  {
   "cell_type": "markdown",
   "metadata": {},
   "source": [
    "### Deriving Contour Lines\n",
    "In the final example we derive some contour lines from the elevation raster. Target data object type is here of type *saga_api.CSG_Shapes*."
   ]
  },
  {
   "cell_type": "code",
   "execution_count": null,
   "metadata": {},
   "outputs": [],
   "source": [
    "from PySAGA.tools import shapes_grid\n",
    "\n",
    "contour = saga_api.SG_Get_Data_Manager().Add_Shapes()\n",
    "\n",
    "shapes_grid.Contour_Lines_from_Grid(GRID=dem, CONTOUR=contour, INTERVALS='from list', ZLIST='800, 1000, 1200, 1500, 2000')\n",
    "\n",
    "contour.Save('contour.shp')\n",
    "plot.Plot_Grid  (dem    , False) # don't show/finish the plot before the contour lines have been added\n",
    "plot.Plot_Shapes(contour,  True)"
   ]
  },
  {
   "cell_type": "markdown",
   "metadata": {},
   "source": [
    "One advantage using *SAGA*'s data manager for data object creation is that you can easily control your data. Just test its summary function."
   ]
  },
  {
   "cell_type": "code",
   "execution_count": null,
   "metadata": {},
   "outputs": [],
   "source": [
    "print(saga_api.SG_Get_Data_Manager().Get_Summary().c_str())"
   ]
  },
  {
   "cell_type": "markdown",
   "metadata": {},
   "source": [
    "Destroy selected data objects to save memory resources..."
   ]
  },
  {
   "cell_type": "code",
   "execution_count": null,
   "metadata": {},
   "outputs": [],
   "source": [
    "saga_api.SG_Get_Data_Manager().Delete(sca)\n",
    "saga_api.SG_Get_Data_Manager().Delete(twi)\n",
    "saga_api.SG_Get_Data_Manager().Delete(table)\n",
    "\n",
    "print(saga_api.SG_Get_Data_Manager().Get_Summary().c_str())"
   ]
  },
  {
   "cell_type": "markdown",
   "metadata": {},
   "source": [
    "...or delete all data objects from memory."
   ]
  },
  {
   "cell_type": "code",
   "execution_count": null,
   "metadata": {},
   "outputs": [],
   "source": [
    "saga_api.SG_Get_Data_Manager().Delete()\n",
    "\n",
    "print(saga_api.SG_Get_Data_Manager().Get_Summary().c_str())"
   ]
  },
  {
   "cell_type": "markdown",
   "metadata": {},
   "source": [
    "That's it so far!"
   ]
  }
 ],
 "metadata": {
  "kernelspec": {
   "display_name": "Python 3",
   "language": "python",
   "name": "python3"
  },
  "language_info": {
   "codemirror_mode": {
    "name": "ipython",
    "version": 3
   },
   "file_extension": ".py",
   "mimetype": "text/x-python",
   "name": "python",
   "nbconvert_exporter": "python",
   "pygments_lexer": "ipython3",
   "version": "3.12.2"
  }
 },
 "nbformat": 4,
 "nbformat_minor": 2
}
